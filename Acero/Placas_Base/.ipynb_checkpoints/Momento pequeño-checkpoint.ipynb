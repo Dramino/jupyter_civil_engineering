{
 "cells": [
  {
   "cell_type": "markdown",
   "metadata": {},
   "source": [
    "# Revisión de placa base ante momentos pequeños\n",
    "## Introducción\n",
    "\n",
    "A continuación se muestra la revisión de placa base ante momentos pequeños"
   ]
  },
  {
   "cell_type": "markdown",
   "metadata": {},
   "source": [
    "## Importación de bibliotecas"
   ]
  },
  {
   "cell_type": "code",
   "execution_count": 1,
   "metadata": {},
   "outputs": [],
   "source": [
    "import math\n",
    "import csv"
   ]
  },
  {
   "cell_type": "markdown",
   "metadata": {},
   "source": [
    "## Datos\n",
    "\n",
    "### Elemento mecánicos"
   ]
  },
  {
   "cell_type": "code",
   "execution_count": 2,
   "metadata": {},
   "outputs": [],
   "source": [
    "pu=37000\n",
    "mu=400000"
   ]
  },
  {
   "cell_type": "markdown",
   "metadata": {},
   "source": [
    "### Placa base"
   ]
  },
  {
   "cell_type": "code",
   "execution_count": 3,
   "metadata": {},
   "outputs": [],
   "source": [
    "pb = dict()\n",
    "pb[\"Base\"] = 45\n",
    "pb[\"Altura\"] = 45\n",
    "pb[\"BaseDado\"] = 55\n",
    "pb[\"AlturaDado\"] = 5\n",
    "pb[\"fy\"] = 2530\n",
    "pb[\"fc\"] = 250"
   ]
  },
  {
   "cell_type": "markdown",
   "metadata": {},
   "source": [
    "### Perfil"
   ]
  },
  {
   "cell_type": "code",
   "execution_count": 4,
   "metadata": {},
   "outputs": [
    {
     "data": {
      "text/plain": [
       "{'type': 'W',\n",
       " 'area': 57.09666,\n",
       " 'rx': 14.554200000000002,\n",
       " 'ry': 3.7846,\n",
       " 'zx': 775.1081272,\n",
       " 'zy': 147.31970536000003,\n",
       " 'sx': 688.256688,\n",
       " 'sy': 95.37271248000002,\n",
       " 'ix': 12112.334484960002,\n",
       " 'iy': 815.8135941760002,\n",
       " 'cw': 238191.31362106517,\n",
       " 'j': 15.816794172800002,\n",
       " 'h0': 557.750110304,\n",
       " 'rts': 4.4958,\n",
       " 'd': 35.052,\n",
       " 'bf': 17.0942,\n",
       " 'tw': 0.6858000000000001,\n",
       " 'tf': 0.9779}"
      ]
     },
     "execution_count": 4,
     "metadata": {},
     "output_type": "execute_result"
    }
   ],
   "source": [
    "def importarPerfil(perfil):\n",
    "    perfil = perfil.upper()\n",
    "    csv_path = \"../aisc_database.csv\"\n",
    "    with open(csv_path, \"r\") as f_obj:\n",
    "        reader = csv.reader(f_obj)\n",
    "        for row in reader:\n",
    "            if row[3] == perfil:\n",
    "                section = dict()\n",
    "                section[\"type\"] = row[2]\n",
    "                section[\"area\"] = float(row[10]) * 2.54 ** 2\n",
    "                section[\"rx\"] = float(row[28]) * 2.54\n",
    "                section[\"ry\"] = float(row[34]) * 2.54\n",
    "                section[\"zx\"] = float(row[26]) * 2.54 ** 3\n",
    "                section[\"zy\"] = float(row[32]) * 2.54 ** 3\n",
    "                section[\"sx\"] = float(row[27]) * 2.54 ** 3\n",
    "                section[\"sy\"] = float(row[33]) * 2.54 ** 3\n",
    "                section[\"ix\"] = float(row[25]) * 2.54 ** 4\n",
    "                section[\"iy\"] = float(row[31]) * 2.54 ** 4\n",
    "                section[\"cw\"] = float(row[84]) * 2.54 ** 6\n",
    "                section[\"j\"] = float(row[54]) * 2.54 ** 4\n",
    "                section[\"h0\"] = float(row[135]) * 2.54 ** 4\n",
    "                section[\"rts\"] = float(row[134]) * 2.54\n",
    "                section[\"d\"] = float(row[11]) * 2.54\n",
    "                section[\"bf\"] = float(row[14]) * 2.54\n",
    "                section[\"tw\"] = float(row[12]) * 2.54\n",
    "                section[\"tf\"] = float(row[15]) * 2.54\n",
    "\n",
    "                return section\n",
    "sectionName=\"W14X30\"\n",
    "section=importarPerfil(sectionName)\n",
    "section"
   ]
  },
  {
   "cell_type": "code",
   "execution_count": 5,
   "metadata": {},
   "outputs": [],
   "source": [
    "#Datos de la placa base\n",
    "B = pb[\"Base\"]\n",
    "N = pb[\"Altura\"]\n",
    "Bc = pb[\"BaseDado\"]\n",
    "Nc = pb[\"AlturaDado\"]\n",
    "fy = pb[\"fy\"]\n",
    "fc = pb[\"fc\"]\n",
    "#Datos del perfil\n",
    "d = section[\"d\"]\n",
    "bf = section[\"bf\"]\n",
    "A1=B*N\n",
    "A2=Bc*Nc"
   ]
  },
  {
   "cell_type": "markdown",
   "metadata": {},
   "source": [
    "## Excentricidades\n",
    "\n",
    "### Excentricidad actuante\n",
    "\n",
    "La excentricidad actuante se obtiene mediante:\n",
    "\n",
    "$e=\\frac{M_u}{P_u}$"
   ]
  },
  {
   "cell_type": "code",
   "execution_count": 6,
   "metadata": {},
   "outputs": [
    {
     "name": "stdout",
     "output_type": "stream",
     "text": [
      "e = 10.81  cm\n"
     ]
    }
   ],
   "source": [
    "e=mu/pu\n",
    "print(\"e = %.2f\"%(e), \" cm\")"
   ]
  },
  {
   "cell_type": "markdown",
   "metadata": {},
   "source": [
    "Para la obtención de la excentricidad crítica se hace mediante las siguiente ecuaciones:\n",
    "\n",
    "$f_{p\\max}=\\phi_c (0.85)f'_c\\sqrt{\\frac{A_2}{A_1}}$"
   ]
  },
  {
   "cell_type": "code",
   "execution_count": 7,
   "metadata": {},
   "outputs": [
    {
     "name": "stdout",
     "output_type": "stream",
     "text": [
      "fp_max = 50.90 kg/cm^2\n"
     ]
    }
   ],
   "source": [
    "fp_max=0.65*0.85*fc*math.sqrt(A2/A1)\n",
    "print(\"fp_max = %.2f\"%(fp_max), \"kg/cm^2\")"
   ]
  },
  {
   "cell_type": "markdown",
   "metadata": {},
   "source": [
    "$q_{\\max}=f_{p\\max}\\times B$"
   ]
  },
  {
   "cell_type": "code",
   "execution_count": 8,
   "metadata": {},
   "outputs": [
    {
     "name": "stdout",
     "output_type": "stream",
     "text": [
      "q_max = 2290.54 kg/cm^2-cm\n"
     ]
    }
   ],
   "source": [
    "q_max=fp_max*B\n",
    "print(\"q_max = %.2f\"%(q_max), \"kg/cm^2-cm\")"
   ]
  },
  {
   "cell_type": "markdown",
   "metadata": {},
   "source": [
    "$e_{crit}=\\frac{N}{2}-\\frac{P_u}{2q_{\\max}}$"
   ]
  },
  {
   "cell_type": "code",
   "execution_count": 9,
   "metadata": {},
   "outputs": [
    {
     "name": "stdout",
     "output_type": "stream",
     "text": [
      "e_crit = 14.42 cm\n",
      "e = 10.81 cm\n",
      "ok\n"
     ]
    }
   ],
   "source": [
    "e_crit=N/2-pu/(2*q_max)\n",
    "print(\"e_crit = %.2f\"%(e_crit), \"cm\")\n",
    "print(\"e = %.2f\"%(e), \"cm\")\n",
    "if e<e_crit:\n",
    "    print(\"ok\")\n",
    "else:\n",
    "    pirnt(\"Momento grande\")"
   ]
  },
  {
   "cell_type": "markdown",
   "metadata": {},
   "source": [
    "## Determinación de longitud a flexión\n",
    "\n",
    "La longitud a flexión $Y$ se obtiene:\n",
    "\n",
    "$Y=N-2e$"
   ]
  },
  {
   "cell_type": "code",
   "execution_count": 10,
   "metadata": {},
   "outputs": [
    {
     "name": "stdout",
     "output_type": "stream",
     "text": [
      "Y = 23.38 cm\n"
     ]
    }
   ],
   "source": [
    "Y=N-2*e\n",
    "print(\"Y = %.2f\"%(Y), \"cm\")"
   ]
  },
  {
   "cell_type": "markdown",
   "metadata": {},
   "source": [
    "Se verifica que la presión se menor a la capacidad máxima del concreto"
   ]
  },
  {
   "cell_type": "code",
   "execution_count": 11,
   "metadata": {},
   "outputs": [
    {
     "name": "stdout",
     "output_type": "stream",
     "text": [
      "q = 1582.66 cm\n",
      "q_max = 2290.54 cm\n",
      "ok\n"
     ]
    }
   ],
   "source": [
    "q=pu/Y\n",
    "print(\"q = %.2f\"%(q), \"cm\")\n",
    "print(\"q_max = %.2f\"%(q_max), \"cm\")\n",
    "if q<q_max:\n",
    "    print(\"ok\")\n",
    "else:\n",
    "    print(\"Capacidad de concreto insuficiente\")"
   ]
  },
  {
   "cell_type": "markdown",
   "metadata": {},
   "source": [
    "## Espesor de placa base\n",
    "\n",
    "    Las lineas de flexión que se generan en una placa base se muestran en la siguiente figura \n",
    "  "
   ]
  },
  {
   "cell_type": "markdown",
   "metadata": {},
   "source": [
    "<img src=\"bendingLines.PNG\" alt=\"Drawing\" style=\"width: 300px;\"/>"
   ]
  },
  {
   "cell_type": "markdown",
   "metadata": {},
   "source": [
    "Por lo que los valores de $m$ y $n$ son:\n",
    "\n",
    "$m=\\frac{N-0.95d}{2}$\n",
    "\n",
    "$n=\\frac{N-0.85bf}{2}$\n",
    "\n",
    "si el perfil es una sección rectangular entonces \n",
    "\n",
    "$n=\\frac{N-0.95bf}{2}$"
   ]
  },
  {
   "cell_type": "code",
   "execution_count": 12,
   "metadata": {},
   "outputs": [
    {
     "name": "stdout",
     "output_type": "stream",
     "text": [
      "m = 5.85  cm\n",
      "n = 15.66  cm\n"
     ]
    }
   ],
   "source": [
    "m = (N - 0.95 * d) / 2\n",
    "n = (B - 0.80 * bf) / 2\n",
    "print(\"m = %.2f\"%(m), \" cm\")\n",
    "print(\"n = %.2f\"%(n), \" cm\")"
   ]
  },
  {
   "cell_type": "markdown",
   "metadata": {},
   "source": [
    "El espesor de la placa base se obtiene mediante:\n",
    "\n",
    "$t=1.5m\\sqrt{\\frac{f_p}{Fy}}$ si $Y \\geq m$\n",
    "\n",
    "$t=2.11m\\sqrt{\\frac{f_pY\\left(m-\\frac{Y}{2}\\right)}{Fy}}$ si $Y < m$"
   ]
  },
  {
   "cell_type": "code",
   "execution_count": 13,
   "metadata": {},
   "outputs": [],
   "source": [
    "def t_req(Y,m,fy,fp):\n",
    "    if Y>=m:\n",
    "        return 1.5*m*math.sqrt(fp/fy)\n",
    "    else:\n",
    "        return 2.11*math.sqrt((fp*Y*(m-Y/2))/fy)"
   ]
  },
  {
   "cell_type": "markdown",
   "metadata": {},
   "source": [
    "Para ello se requier obtener primero $f_p$\n",
    "\n",
    "$f_p=\\frac{P_u}{BY}$"
   ]
  },
  {
   "cell_type": "code",
   "execution_count": 14,
   "metadata": {},
   "outputs": [
    {
     "name": "stdout",
     "output_type": "stream",
     "text": [
      "fp = 35.17 kg/cm^2\n"
     ]
    }
   ],
   "source": [
    "fp=pu/(B*Y)\n",
    "print(\"fp = %.2f\"%(fp), \"kg/cm^2\")"
   ]
  },
  {
   "cell_type": "code",
   "execution_count": 15,
   "metadata": {},
   "outputs": [
    {
     "name": "stdout",
     "output_type": "stream",
     "text": [
      "t = 1.03  cm\n"
     ]
    }
   ],
   "source": [
    "t_m=t_req(Y,m,fy,fp)\n",
    "t_n=t_req(Y,m,fy,fp)\n",
    "t_min=max(t_m,t_n)\n",
    "print(\"t = %.2f\"%(t_min), \" cm\")\n"
   ]
  },
  {
   "cell_type": "code",
   "execution_count": null,
   "metadata": {},
   "outputs": [],
   "source": []
  }
 ],
 "metadata": {
  "kernelspec": {
   "display_name": "Python 3",
   "language": "python",
   "name": "python3"
  },
  "language_info": {
   "codemirror_mode": {
    "name": "ipython",
    "version": 3
   },
   "file_extension": ".py",
   "mimetype": "text/x-python",
   "name": "python",
   "nbconvert_exporter": "python",
   "pygments_lexer": "ipython3",
   "version": "3.8.5"
  }
 },
 "nbformat": 4,
 "nbformat_minor": 4
}
