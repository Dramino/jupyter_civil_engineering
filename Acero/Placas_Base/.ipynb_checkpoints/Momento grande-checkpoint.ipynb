{
 "cells": [
  {
   "cell_type": "markdown",
   "metadata": {},
   "source": [
    "# Revisión de placa base ante momentos grandes\n",
    "## Introducción\n",
    "\n",
    "A continuación se muestra la revisión de placa base ante momentos grandes"
   ]
  },
  {
   "cell_type": "markdown",
   "metadata": {},
   "source": [
    "## Importación de bibliotecas"
   ]
  },
  {
   "cell_type": "code",
   "execution_count": 32,
   "metadata": {},
   "outputs": [],
   "source": [
    "import math\n",
    "import csv"
   ]
  },
  {
   "cell_type": "markdown",
   "metadata": {},
   "source": [
    "## Datos\n",
    "\n",
    "### Elemento mecánicos"
   ]
  },
  {
   "cell_type": "code",
   "execution_count": 33,
   "metadata": {},
   "outputs": [],
   "source": [
    "pu=37000\n",
    "mu=800000"
   ]
  },
  {
   "cell_type": "markdown",
   "metadata": {},
   "source": [
    "### Placa base"
   ]
  },
  {
   "cell_type": "code",
   "execution_count": 34,
   "metadata": {},
   "outputs": [],
   "source": [
    "pb = dict()\n",
    "pb[\"Base\"] = 45\n",
    "pb[\"Altura\"] = 45\n",
    "pb[\"BaseDado\"] = 55\n",
    "pb[\"AlturaDado\"] = 5\n",
    "pb[\"fy\"] = 2530\n",
    "pb[\"fc\"] = 250\n",
    "#Datos de anclas\n",
    "pb[\"Dist_Ancla\"]=5 #Distacia del paño de la placa al ancla\n",
    "pb[\"Num_anclas\"]=3\n",
    "pb[\"Diametro_anclas\"]=2.54\n",
    "pb[\"fu_anclas\"]=4100\n"
   ]
  },
  {
   "cell_type": "markdown",
   "metadata": {},
   "source": [
    "### Perfil"
   ]
  },
  {
   "cell_type": "code",
   "execution_count": 35,
   "metadata": {},
   "outputs": [
    {
     "data": {
      "text/plain": [
       "{'type': 'W',\n",
       " 'area': 57.09666,\n",
       " 'rx': 14.554200000000002,\n",
       " 'ry': 3.7846,\n",
       " 'zx': 775.1081272,\n",
       " 'zy': 147.31970536000003,\n",
       " 'sx': 688.256688,\n",
       " 'sy': 95.37271248000002,\n",
       " 'ix': 12112.334484960002,\n",
       " 'iy': 815.8135941760002,\n",
       " 'cw': 238191.31362106517,\n",
       " 'j': 15.816794172800002,\n",
       " 'h0': 557.750110304,\n",
       " 'rts': 4.4958,\n",
       " 'd': 35.052,\n",
       " 'bf': 17.0942,\n",
       " 'tw': 0.6858000000000001,\n",
       " 'tf': 0.9779}"
      ]
     },
     "execution_count": 35,
     "metadata": {},
     "output_type": "execute_result"
    }
   ],
   "source": [
    "def importarPerfil(perfil):\n",
    "    perfil = perfil.upper()\n",
    "    csv_path = \"../aisc_database.csv\"\n",
    "    with open(csv_path, \"r\") as f_obj:\n",
    "        reader = csv.reader(f_obj)\n",
    "        for row in reader:\n",
    "            if row[3] == perfil:\n",
    "                section = dict()\n",
    "                section[\"type\"] = row[2]\n",
    "                section[\"area\"] = float(row[10]) * 2.54 ** 2\n",
    "                section[\"rx\"] = float(row[28]) * 2.54\n",
    "                section[\"ry\"] = float(row[34]) * 2.54\n",
    "                section[\"zx\"] = float(row[26]) * 2.54 ** 3\n",
    "                section[\"zy\"] = float(row[32]) * 2.54 ** 3\n",
    "                section[\"sx\"] = float(row[27]) * 2.54 ** 3\n",
    "                section[\"sy\"] = float(row[33]) * 2.54 ** 3\n",
    "                section[\"ix\"] = float(row[25]) * 2.54 ** 4\n",
    "                section[\"iy\"] = float(row[31]) * 2.54 ** 4\n",
    "                section[\"cw\"] = float(row[84]) * 2.54 ** 6\n",
    "                section[\"j\"] = float(row[54]) * 2.54 ** 4\n",
    "                section[\"h0\"] = float(row[135]) * 2.54 ** 4\n",
    "                section[\"rts\"] = float(row[134]) * 2.54\n",
    "                section[\"d\"] = float(row[11]) * 2.54\n",
    "                section[\"bf\"] = float(row[14]) * 2.54\n",
    "                section[\"tw\"] = float(row[12]) * 2.54\n",
    "                section[\"tf\"] = float(row[15]) * 2.54\n",
    "\n",
    "                return section\n",
    "sectionName=\"W14X30\"\n",
    "section=importarPerfil(sectionName)\n",
    "section"
   ]
  },
  {
   "cell_type": "code",
   "execution_count": 36,
   "metadata": {},
   "outputs": [],
   "source": [
    "#Datos de la placa base\n",
    "B = pb[\"Base\"]\n",
    "N = pb[\"Altura\"]\n",
    "Bc = pb[\"BaseDado\"]\n",
    "Nc = pb[\"AlturaDado\"]\n",
    "fy = pb[\"fy\"]\n",
    "fc = pb[\"fc\"]\n",
    "#Datos de anclas\n",
    "dist=pb[\"Dist_Ancla\"]\n",
    "N_anclas=pb[\"Num_anclas\"]\n",
    "diam=pb[\"Diametro_anclas\"]\n",
    "fu=pb[\"fu_anclas\"]\n",
    "#Datos del perfil\n",
    "d = section[\"d\"]\n",
    "bf = section[\"bf\"]\n",
    "A1=B*N\n",
    "A2=Bc*Nc"
   ]
  },
  {
   "cell_type": "markdown",
   "metadata": {},
   "source": [
    "## Excentricidades\n",
    "\n",
    "### Excentricidad actuante\n",
    "\n",
    "La excentricidad actuante se obtiene mediante:\n",
    "\n",
    "$e=\\frac{M_u}{P_u}$"
   ]
  },
  {
   "cell_type": "code",
   "execution_count": 37,
   "metadata": {},
   "outputs": [
    {
     "name": "stdout",
     "output_type": "stream",
     "text": [
      "e = 21.62  cm\n"
     ]
    }
   ],
   "source": [
    "e=mu/pu\n",
    "print(\"e = %.2f\"%(e), \" cm\")"
   ]
  },
  {
   "cell_type": "markdown",
   "metadata": {},
   "source": [
    "Para la obtención de la excentricidad crítica se hace mediante las siguiente ecuaciones:\n",
    "\n",
    "$f_{p\\max}=\\phi_c (0.85)f'_c\\sqrt{\\frac{A_2}{A_1}}$"
   ]
  },
  {
   "cell_type": "code",
   "execution_count": 38,
   "metadata": {},
   "outputs": [
    {
     "name": "stdout",
     "output_type": "stream",
     "text": [
      "fp_max = 50.90 kg/cm^2\n"
     ]
    }
   ],
   "source": [
    "fp_max=0.65*0.85*fc*math.sqrt(A2/A1)\n",
    "print(\"fp_max = %.2f\"%(fp_max), \"kg/cm^2\")"
   ]
  },
  {
   "cell_type": "markdown",
   "metadata": {},
   "source": [
    "$q_{\\max}=f_{p\\max}\\times B$"
   ]
  },
  {
   "cell_type": "code",
   "execution_count": 39,
   "metadata": {},
   "outputs": [
    {
     "name": "stdout",
     "output_type": "stream",
     "text": [
      "q_max = 2290.54 kg/cm^2-cm\n"
     ]
    }
   ],
   "source": [
    "q_max=fp_max*B\n",
    "print(\"q_max = %.2f\"%(q_max), \"kg/cm^2-cm\")"
   ]
  },
  {
   "cell_type": "markdown",
   "metadata": {},
   "source": [
    "$e_{crit}=\\frac{N}{2}-\\frac{P_u}{2q_{\\max}}$"
   ]
  },
  {
   "cell_type": "code",
   "execution_count": 40,
   "metadata": {},
   "outputs": [
    {
     "name": "stdout",
     "output_type": "stream",
     "text": [
      "e_crit = 14.42 cm\n",
      "e = 21.62 cm\n",
      "Momento grande\n"
     ]
    }
   ],
   "source": [
    "e_crit=N/2-pu/(2*q_max)\n",
    "print(\"e_crit = %.2f\"%(e_crit), \"cm\")\n",
    "print(\"e = %.2f\"%(e), \"cm\")\n",
    "if e<e_crit:\n",
    "    print(\"ok\")\n",
    "else:\n",
    "    print(\"Momento grande\")"
   ]
  },
  {
   "cell_type": "markdown",
   "metadata": {},
   "source": [
    "Antes de proseguir se debe verificar que la dimension de la placa es adecuada, si no se obtendrá una raíz negativa\n",
    "\n",
    "$\\left(f+\\frac{N}{2}\\right)^2<\\frac{2P_u(e+f)}{q_{\\max}}$\n",
    "\n",
    "para obtenter f se tiene\n",
    "\n",
    "$f=\\frac{N}{2}-d_a$\n",
    "\n",
    "donde $d_a$ es la distansia del ancla al paño de la placa"
   ]
  },
  {
   "cell_type": "code",
   "execution_count": 41,
   "metadata": {},
   "outputs": [
    {
     "name": "stdout",
     "output_type": "stream",
     "text": [
      "maxfn = 1600.00\n",
      "fn = 1263.89\n",
      "ok\n"
     ]
    }
   ],
   "source": [
    "f=N/2-dist\n",
    "maxfn=(f+N/2)**2\n",
    "fn=(2*pu*(e+f))/q_max\n",
    "print(\"maxfn = %.2f\"%(maxfn))\n",
    "print(\"fn = %.2f\"%(fn))\n",
    "if fn < maxfn :\n",
    "    print(\"ok\")\n",
    "else:\n",
    "    print(\"Aumentar tamaño de placa\")"
   ]
  },
  {
   "cell_type": "markdown",
   "metadata": {},
   "source": [
    "## Determinación de longitud a flexión\n",
    "\n",
    "La longitud a flexión $Y$ se obtiene:\n",
    "\n",
    "$Y=\\left(f+\\frac{N}{2}\\right)\\pm\\sqrt{\\left(f+\\frac{N}{2}\\right)^2-\\frac{2P_u(e+f)}{q_{\\max}}}$"
   ]
  },
  {
   "cell_type": "code",
   "execution_count": 42,
   "metadata": {},
   "outputs": [
    {
     "name": "stdout",
     "output_type": "stream",
     "text": [
      "Y = 21.67 cm\n"
     ]
    }
   ],
   "source": [
    "Y1=max((f+N/2)+math.sqrt((f+N/2)**2-2*pu*(e+f)/q_max),0)\n",
    "Y2=max((f+N/2)-math.sqrt((f+N/2)**2-2*pu*(e+f)/q_max),0)\n",
    "Y=min(Y2,Y1)\n",
    "print(\"Y = %.2f\"%(Y), \"cm\")"
   ]
  },
  {
   "cell_type": "markdown",
   "metadata": {},
   "source": [
    "## Tensión en anclas\n",
    "\n",
    "La tensión se obtiene mediante:\n",
    "\n",
    "$T_u=qY-P_u$"
   ]
  },
  {
   "cell_type": "code",
   "execution_count": 43,
   "metadata": {},
   "outputs": [
    {
     "name": "stdout",
     "output_type": "stream",
     "text": [
      "Tu = 12.63 ton\n"
     ]
    }
   ],
   "source": [
    "tu=q_max*Y-pu\n",
    "print(\"Tu = %.2f\"%(tu/1000), \"ton\")"
   ]
  },
  {
   "cell_type": "markdown",
   "metadata": {},
   "source": [
    "## Espesor de placa base\n",
    "\n",
    "    Las lineas de flexión que se generan en una placa base se muestran en la siguiente figura \n",
    "  "
   ]
  },
  {
   "cell_type": "markdown",
   "metadata": {},
   "source": [
    "<img src=\"bendingLines.PNG\" alt=\"Drawing\" style=\"width: 300px;\"/>"
   ]
  },
  {
   "cell_type": "markdown",
   "metadata": {},
   "source": [
    "Por lo que los valores de $m$ y $n$ son:\n",
    "\n",
    "$m=\\frac{N-0.95d}{2}$\n",
    "\n",
    "$n=\\frac{N-0.85bf}{2}$\n",
    "\n",
    "si el perfil es una sección rectangular entonces \n",
    "\n",
    "$n=\\frac{N-0.95bf}{2}$"
   ]
  },
  {
   "cell_type": "code",
   "execution_count": 44,
   "metadata": {},
   "outputs": [
    {
     "name": "stdout",
     "output_type": "stream",
     "text": [
      "m = 5.85  cm\n",
      "n = 15.66  cm\n"
     ]
    }
   ],
   "source": [
    "m = (N - 0.95 * d) / 2\n",
    "n = (B - 0.80 * bf) / 2\n",
    "print(\"m = %.2f\"%(m), \" cm\")\n",
    "print(\"n = %.2f\"%(n), \" cm\")"
   ]
  },
  {
   "cell_type": "markdown",
   "metadata": {},
   "source": [
    "El espesor de la placa base se obtiene mediante:\n",
    "\n",
    "$t=1.5m\\sqrt{\\frac{f_p}{Fy}}$ si $Y \\geq m$\n",
    "\n",
    "$t=2.11m\\sqrt{\\frac{f_pY\\left(m-\\frac{Y}{2}\\right)}{Fy}}$ si $Y < m$"
   ]
  },
  {
   "cell_type": "code",
   "execution_count": 45,
   "metadata": {},
   "outputs": [],
   "source": [
    "def t_req(Y,m,fy,fp):\n",
    "    if Y>=m:\n",
    "        return 1.5*m*math.sqrt(fp/fy)\n",
    "    else:\n",
    "        return 2.11*math.sqrt((fp*Y*(m-Y/2))/fy)"
   ]
  },
  {
   "cell_type": "markdown",
   "metadata": {},
   "source": [
    "Para ello se requier obtener primero $f_p$\n",
    "\n",
    "$f_p=f_{p\\max}$"
   ]
  },
  {
   "cell_type": "code",
   "execution_count": 46,
   "metadata": {},
   "outputs": [
    {
     "name": "stdout",
     "output_type": "stream",
     "text": [
      "fp = 50.90 kg/cm^2\n"
     ]
    }
   ],
   "source": [
    "fp=fp_max\n",
    "print(\"fp = %.2f\"%(fp), \"kg/cm^2\")"
   ]
  },
  {
   "cell_type": "code",
   "execution_count": 49,
   "metadata": {},
   "outputs": [
    {
     "name": "stdout",
     "output_type": "stream",
     "text": [
      "tm = 1.24  cm\n",
      "tn = 3.33  cm\n"
     ]
    }
   ],
   "source": [
    "t_m=t_req(Y,m,fy,fp)\n",
    "t_n=t_req(Y,n,fy,fp)\n",
    "print(\"tm = %.2f\"%(t_m), \" cm\")\n",
    "print(\"tn = %.2f\"%(t_n), \" cm\")\n"
   ]
  },
  {
   "cell_type": "markdown",
   "metadata": {},
   "source": [
    "Revisión de la zona a tensión\n",
    "\n",
    "$x=\\frac{N-d}{2}$\n",
    "\n",
    "$t=2.11\\sqrt{\\frac{T_u x}{B F_y}}$"
   ]
  },
  {
   "cell_type": "code",
   "execution_count": 50,
   "metadata": {},
   "outputs": [
    {
     "name": "stdout",
     "output_type": "stream",
     "text": [
      "t_tu = 1.57  cm\n",
      "t = 3.33  cm\n"
     ]
    }
   ],
   "source": [
    "x=(N-d)/2\n",
    "t_tu=2.11*math.sqrt(tu*x/(B*fy))\n",
    "print(\"t_tu = %.2f\"%(t_tu), \" cm\")\n",
    "t_min=max(t_m,t_n,t_tu)\n",
    "print(\"t = %.2f\"%(t_min), \" cm\")"
   ]
  },
  {
   "cell_type": "markdown",
   "metadata": {},
   "source": [
    "## Capacidad de las anclas\n",
    "\n",
    "la capacidad total de las anclas es:\n",
    "\n",
    "$T_R=\\phi(0.75)F_uA_gNum$"
   ]
  },
  {
   "cell_type": "code",
   "execution_count": 56,
   "metadata": {},
   "outputs": [
    {
     "name": "stdout",
     "output_type": "stream",
     "text": [
      "area = 5.07  cm^2\n",
      "tr = 35.06  ton\n",
      "tu = 12.63  ton\n"
     ]
    }
   ],
   "source": [
    "ag=math.pi*diam**2/4\n",
    "print(\"area = %.2f\"%(ag), \" cm^2\")\n",
    "tr=0.75*0.75*fu*ag*N_anclas\n",
    "print(\"tr = %.2f\"%(tr/1000), \" ton\")\n",
    "print(\"tu = %.2f\"%(tu/1000), \" ton\")"
   ]
  }
 ],
 "metadata": {
  "kernelspec": {
   "display_name": "Python 3",
   "language": "python",
   "name": "python3"
  },
  "language_info": {
   "codemirror_mode": {
    "name": "ipython",
    "version": 3
   },
   "file_extension": ".py",
   "mimetype": "text/x-python",
   "name": "python",
   "nbconvert_exporter": "python",
   "pygments_lexer": "ipython3",
   "version": "3.8.5"
  }
 },
 "nbformat": 4,
 "nbformat_minor": 4
}
