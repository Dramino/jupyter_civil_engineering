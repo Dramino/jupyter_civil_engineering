{
 "cells": [
  {
   "cell_type": "markdown",
   "metadata": {},
   "source": [
    "# Placa extrema para 4E sin atiesadores\n",
    "\n",
    "## Introducción\n",
    "A continuación se muestra la revisión de la placa extrema y tornillos para trabes a momento\n"
   ]
  },
  {
   "cell_type": "markdown",
   "metadata": {},
   "source": [
    "<img src=\"4E.PNG\" alt=\"Drawing\" style=\"width: 300px;\"/>"
   ]
  },
  {
   "cell_type": "markdown",
   "metadata": {},
   "source": [
    "## Importación de bilbiotecas"
   ]
  },
  {
   "cell_type": "code",
   "execution_count": 1,
   "metadata": {},
   "outputs": [],
   "source": [
    "import math\n",
    "import csv"
   ]
  },
  {
   "cell_type": "markdown",
   "metadata": {},
   "source": [
    "## Elementos mecánicos"
   ]
  },
  {
   "cell_type": "code",
   "execution_count": 2,
   "metadata": {},
   "outputs": [],
   "source": [
    "mu=25*100000"
   ]
  },
  {
   "cell_type": "markdown",
   "metadata": {},
   "source": [
    "## Placa extrema"
   ]
  },
  {
   "cell_type": "code",
   "execution_count": 3,
   "metadata": {},
   "outputs": [],
   "source": [
    "pe = dict()\n",
    "pe[\"Base\"] = 23\n",
    "pe[\"fy\"] = 2530\n",
    "#Datos de anclas\n",
    "pe[\"de\"]=4.5 \n",
    "pe[\"pfo\"]=4.5 \n",
    "pe[\"pfi\"]=4.5\n",
    "pe[\"ft\"]=7900"
   ]
  },
  {
   "cell_type": "markdown",
   "metadata": {},
   "source": [
    "## Perfil"
   ]
  },
  {
   "cell_type": "code",
   "execution_count": 4,
   "metadata": {},
   "outputs": [
    {
     "data": {
      "text/plain": [
       "{'type': 'W',\n",
       " 'area': 104.51592,\n",
       " 'rx': 21.336000000000002,\n",
       " 'ry': 4.3942,\n",
       " 'zx': 2064.7700640000003,\n",
       " 'zy': 301.5219776,\n",
       " 'sx': 1802.5770400000004,\n",
       " 'sy': 193.36735520000005,\n",
       " 'ix': 47450.38251840001,\n",
       " 'iy': 2014.5600999040003,\n",
       " 'cw': 1337308.6153696782,\n",
       " 'j': 51.61269677440001,\n",
       " 'h0': 844.1173311168002,\n",
       " 'rts': 5.3594,\n",
       " 'd': 52.832,\n",
       " 'bf': 20.878800000000002,\n",
       " 'tw': 0.9525,\n",
       " 'tf': 1.3258800000000002,\n",
       " 'g': 13.97}"
      ]
     },
     "execution_count": 4,
     "metadata": {},
     "output_type": "execute_result"
    }
   ],
   "source": [
    "def importarPerfil(perfil):\n",
    "    perfil = perfil.upper()\n",
    "    csv_path = \"../aisc_database.csv\"\n",
    "    with open(csv_path, \"r\") as f_obj:\n",
    "        reader = csv.reader(f_obj)\n",
    "        for row in reader:\n",
    "            if row[3] == perfil:\n",
    "                section = dict()\n",
    "                section[\"type\"] = row[2]\n",
    "                section[\"area\"] = float(row[10]) * 2.54 ** 2\n",
    "                section[\"rx\"] = float(row[28]) * 2.54\n",
    "                section[\"ry\"] = float(row[34]) * 2.54\n",
    "                section[\"zx\"] = float(row[26]) * 2.54 ** 3\n",
    "                section[\"zy\"] = float(row[32]) * 2.54 ** 3\n",
    "                section[\"sx\"] = float(row[27]) * 2.54 ** 3\n",
    "                section[\"sy\"] = float(row[33]) * 2.54 ** 3\n",
    "                section[\"ix\"] = float(row[25]) * 2.54 ** 4\n",
    "                section[\"iy\"] = float(row[31]) * 2.54 ** 4\n",
    "                section[\"cw\"] = float(row[84]) * 2.54 ** 6\n",
    "                section[\"j\"] = float(row[54]) * 2.54 ** 4\n",
    "                section[\"h0\"] = float(row[135]) * 2.54 ** 4\n",
    "                section[\"rts\"] = float(row[134]) * 2.54\n",
    "                section[\"d\"] = float(row[11]) * 2.54\n",
    "                section[\"bf\"] = float(row[14]) * 2.54\n",
    "                section[\"tw\"] = float(row[12]) * 2.54\n",
    "                section[\"tf\"] = float(row[15]) * 2.54\n",
    "\n",
    "                return section\n",
    "sectionName=\"W21X55\"\n",
    "section=importarPerfil(sectionName)\n",
    "section[\"g\"]=13.97\n",
    "section"
   ]
  },
  {
   "cell_type": "code",
   "execution_count": 5,
   "metadata": {},
   "outputs": [
    {
     "name": "stdout",
     "output_type": "stream",
     "text": [
      "h0 = 56.67  cm\n",
      "h1 = 47.67  cm\n"
     ]
    }
   ],
   "source": [
    "#Datos de placa y tornillos\n",
    "bp=pe[\"Base\"]\n",
    "g=section[\"g\"]\n",
    "pfi=pe[\"pfi\"]\n",
    "pfo=pe[\"pfo\"]\n",
    "de=pe[\"de\"]\n",
    "fy=pe[\"fy\"]\n",
    "ft=pe[\"ft\"]\n",
    "#Datos de perfil\n",
    "d=section[\"d\"]\n",
    "bf=section[\"bf\"]\n",
    "tf=section[\"tf\"]\n",
    "h0=d+pfo-tf/2\n",
    "h1=d-pfi-tf/2\n",
    "\n",
    "print(\"h0 = %.2f\"%(h0), \" cm\")\n",
    "print(\"h1 = %.2f\"%(h1), \" cm\")"
   ]
  },
  {
   "cell_type": "markdown",
   "metadata": {},
   "source": [
    "## Determinación del diámetro del ancla\n",
    "\n",
    "$d=\\sqrt{\\frac{2Mu}{\\pi \\phi F_t (h_0+h1)}}$"
   ]
  },
  {
   "cell_type": "code",
   "execution_count": 6,
   "metadata": {},
   "outputs": [
    {
     "name": "stdout",
     "output_type": "stream",
     "text": [
      "dt = 1.60  cm\n"
     ]
    }
   ],
   "source": [
    "dt=math.sqrt(2*mu/(math.pi*0.75*ft*(h0+h1)))\n",
    "print(\"dt = %.2f\"%(dt), \" cm\")"
   ]
  },
  {
   "cell_type": "markdown",
   "metadata": {},
   "source": [
    "## Espesor de placa base\n",
    "\n",
    "$s=\\max\\left(\\frac{1}{2}\\sqrt{b_f g},pfi\\right)$"
   ]
  },
  {
   "cell_type": "code",
   "execution_count": 7,
   "metadata": {},
   "outputs": [
    {
     "name": "stdout",
     "output_type": "stream",
     "text": [
      "s = 8.54  cm\n"
     ]
    }
   ],
   "source": [
    "s=max(0.5*math.sqrt(bf*g),pfi)\n",
    "print(\"s = %.2f\"%(s), \" cm\")"
   ]
  },
  {
   "cell_type": "markdown",
   "metadata": {},
   "source": [
    "$Y=\\frac{b_p}{2}\\left[h1\\left(\\frac{1}{pfi}+\\frac{1}{s}\\right)+h0\\left(\\frac{1}{pfo}\\right)-\\frac{1}{2}\\right]+\\frac{2}{g}\\left[h1(pfi+s)\\right]$"
   ]
  },
  {
   "cell_type": "code",
   "execution_count": 8,
   "metadata": {},
   "outputs": [
    {
     "name": "stdout",
     "output_type": "stream",
     "text": [
      "Y = 8.54  cm\n"
     ]
    }
   ],
   "source": [
    "Y=bp/2*(h1*(1/pfi+1/s)+h0*(1/pfo)-0.5)+2/g*(h1*(pfi+s))\n",
    "print(\"Y = %.2f\"%(s), \" cm\")"
   ]
  },
  {
   "cell_type": "markdown",
   "metadata": {},
   "source": [
    "$t=\\sqrt{\\frac{Mu}{\\phi FyY}}$"
   ]
  },
  {
   "cell_type": "code",
   "execution_count": 9,
   "metadata": {},
   "outputs": [
    {
     "name": "stdout",
     "output_type": "stream",
     "text": [
      "t = 1.63  cm\n"
     ]
    }
   ],
   "source": [
    "t=math.sqrt(mu/(0.9*fy*Y))\n",
    "print(\"t = %.2f\"%(t), \" cm\")"
   ]
  }
 ],
 "metadata": {
  "kernelspec": {
   "display_name": "Python 3",
   "language": "python",
   "name": "python3"
  },
  "language_info": {
   "codemirror_mode": {
    "name": "ipython",
    "version": 3
   },
   "file_extension": ".py",
   "mimetype": "text/x-python",
   "name": "python",
   "nbconvert_exporter": "python",
   "pygments_lexer": "ipython3",
   "version": "3.8.5"
  }
 },
 "nbformat": 4,
 "nbformat_minor": 4
}
