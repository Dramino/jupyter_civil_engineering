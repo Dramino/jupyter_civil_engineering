{
 "cells": [
  {
   "cell_type": "markdown",
   "metadata": {},
   "source": [
    "# Placa extrema para 4E sin atiesadores\n",
    "\n",
    "## Introducción\n",
    "A continuación se muestra la revisión de la placa extrema y tornillos para trabes a momento\n"
   ]
  },
  {
   "cell_type": "markdown",
   "metadata": {},
   "source": [
    "<img src=\"4E.PNG\" alt=\"Drawing\" style=\"width: 300px;\"/>"
   ]
  },
  {
   "cell_type": "markdown",
   "metadata": {},
   "source": [
    "## Importación de bilbiotecas"
   ]
  },
  {
   "cell_type": "code",
   "execution_count": 1,
   "metadata": {},
   "outputs": [],
   "source": [
    "import math\n",
    "import csv"
   ]
  },
  {
   "cell_type": "markdown",
   "metadata": {},
   "source": [
    "## Elementos mecánicos"
   ]
  },
  {
   "cell_type": "code",
   "execution_count": 2,
   "metadata": {},
   "outputs": [],
   "source": [
    "mu=25*100000\n",
    "vu=15*1000"
   ]
  },
  {
   "cell_type": "markdown",
   "metadata": {},
   "source": [
    "## Placa extrema"
   ]
  },
  {
   "cell_type": "code",
   "execution_count": 3,
   "metadata": {},
   "outputs": [],
   "source": [
    "pe = dict()\n",
    "pe[\"Base\"] = 23\n",
    "pe[\"fy\"] = 2530\n",
    "pe[\"fu\"] = 4100\n",
    "#Datos de tornillo ASTM A490\n",
    "pe[\"de\"]=4.5 \n",
    "pe[\"pfo\"]=4.5 \n",
    "pe[\"pfi\"]=4.5\n",
    "pe[\"ft\"]=7900\n",
    "pe[\"tp\"]=2\n",
    "pe[\"db\"]=2\n",
    "pe[\"fv\"]=4200"
   ]
  },
  {
   "cell_type": "markdown",
   "metadata": {},
   "source": [
    "## Perfil"
   ]
  },
  {
   "cell_type": "code",
   "execution_count": 34,
   "metadata": {},
   "outputs": [],
   "source": [
    "def importarPerfil(perfil):\n",
    "    perfil = perfil.upper()\n",
    "    csv_path = \"../aisc_database.csv\"\n",
    "    with open(csv_path, \"r\") as f_obj:\n",
    "        reader = csv.reader(f_obj)\n",
    "        for row in reader:\n",
    "            if row[3] == perfil:\n",
    "                section = dict()\n",
    "                section[\"type\"] = row[2]\n",
    "                section[\"area\"] = float(row[10]) * 2.54 ** 2\n",
    "                section[\"rx\"] = float(row[28]) * 2.54\n",
    "                section[\"ry\"] = float(row[34]) * 2.54\n",
    "                section[\"zx\"] = float(row[26]) * 2.54 ** 3\n",
    "                section[\"zy\"] = float(row[32]) * 2.54 ** 3\n",
    "                section[\"sx\"] = float(row[27]) * 2.54 ** 3\n",
    "                section[\"sy\"] = float(row[33]) * 2.54 ** 3\n",
    "                section[\"ix\"] = float(row[25]) * 2.54 ** 4\n",
    "                section[\"iy\"] = float(row[31]) * 2.54 ** 4\n",
    "                section[\"cw\"] = float(row[84]) * 2.54 ** 6\n",
    "                section[\"j\"] = float(row[54]) * 2.54 ** 4\n",
    "                section[\"h0\"] = float(row[135]) * 2.54 ** 4\n",
    "                section[\"rts\"] = float(row[134]) * 2.54\n",
    "                section[\"d\"] = float(row[11]) * 2.54\n",
    "                section[\"bf\"] = float(row[14]) * 2.54\n",
    "                section[\"tw\"] = float(row[12]) * 2.54\n",
    "                section[\"tf\"] = float(row[15]) * 2.54\n",
    "\n",
    "                return section\n",
    "sectionName=\"W21X55\"\n",
    "section=importarPerfil(sectionName)\n",
    "section[\"g\"]=13.97\n",
    "ColumnName=\"W14X109\"\n",
    "Column=importarPerfil(ColumnName)\n",
    "Column[\"ts\"]=1.5 #Atiesador en columna\n",
    "Column[\"fy\"]=3515 #Resistensia del acero\n",
    "#section"
   ]
  },
  {
   "cell_type": "code",
   "execution_count": 35,
   "metadata": {},
   "outputs": [
    {
     "name": "stdout",
     "output_type": "stream",
     "text": [
      "h0 = 56.67  cm\n",
      "h1 = 47.67  cm\n"
     ]
    }
   ],
   "source": [
    "#Datos de placa y tornillos\n",
    "bp=pe[\"Base\"]\n",
    "g=section[\"g\"]\n",
    "pfi=pe[\"pfi\"]\n",
    "pfo=pe[\"pfo\"]\n",
    "de=pe[\"de\"]\n",
    "fy=pe[\"fy\"]\n",
    "fu=pe[\"fu\"]\n",
    "ft=pe[\"ft\"]\n",
    "fv=pe[\"fv\"]\n",
    "tp=pe[\"tp\"]\n",
    "db=pe[\"db\"]\n",
    "#Datos de perfil\n",
    "d=section[\"d\"]\n",
    "bf=section[\"bf\"]\n",
    "tf=section[\"tf\"]\n",
    "#Datos de columna\n",
    "dc=Column[\"d\"]\n",
    "bfc=Column[\"bf\"]\n",
    "tfc=Column[\"tf\"]\n",
    "ts=Column[\"ts\"]\n",
    "fyc=Column[\"fy\"]\n",
    "\n",
    "h0=d+pfo-tf/2\n",
    "h1=d-pfi-tf/2\n",
    "\n",
    "print(\"h0 = %.2f\"%(h0), \" cm\")\n",
    "print(\"h1 = %.2f\"%(h1), \" cm\")"
   ]
  },
  {
   "cell_type": "markdown",
   "metadata": {},
   "source": [
    "## Determinación del diámetro del ancla\n",
    "\n",
    "$d=\\sqrt{\\frac{2Mu}{\\pi \\phi F_t (h_0+h1)}}$"
   ]
  },
  {
   "cell_type": "code",
   "execution_count": 6,
   "metadata": {},
   "outputs": [
    {
     "name": "stdout",
     "output_type": "stream",
     "text": [
      "dt_min = 1.60  cm\n",
      "db = 2.00  cm\n",
      "rel = 0.80\n"
     ]
    }
   ],
   "source": [
    "dt=math.sqrt(2*mu/(math.pi*0.75*ft*(h0+h1)))\n",
    "print(\"dt_min = %.2f\"%(dt), \" cm\")\n",
    "print(\"db = %.2f\"%(db), \" cm\")\n",
    "print(\"rel = %.2f\"%(dt/db))"
   ]
  },
  {
   "cell_type": "markdown",
   "metadata": {},
   "source": [
    "## Espesor de placa base\n",
    "\n",
    "$s=\\max\\left(\\frac{1}{2}\\sqrt{b_f g},pfi\\right)$"
   ]
  },
  {
   "cell_type": "code",
   "execution_count": 7,
   "metadata": {},
   "outputs": [
    {
     "name": "stdout",
     "output_type": "stream",
     "text": [
      "s = 8.54  cm\n"
     ]
    }
   ],
   "source": [
    "s=max(0.5*math.sqrt(bf*g),pfi)\n",
    "print(\"s = %.2f\"%(s), \" cm\")"
   ]
  },
  {
   "cell_type": "markdown",
   "metadata": {},
   "source": [
    "$Y=\\frac{b_p}{2}\\left[h1\\left(\\frac{1}{pfi}+\\frac{1}{s}\\right)+h0\\left(\\frac{1}{pfo}\\right)-\\frac{1}{2}\\right]+\\frac{2}{g}\\left[h1(pfi+s)\\right]$"
   ]
  },
  {
   "cell_type": "code",
   "execution_count": 8,
   "metadata": {},
   "outputs": [
    {
     "name": "stdout",
     "output_type": "stream",
     "text": [
      "Y = 8.54  cm\n"
     ]
    }
   ],
   "source": [
    "Y=bp/2*(h1*(1/pfi+1/s)+h0*(1/pfo)-0.5)+2/g*(h1*(pfi+s))\n",
    "print(\"Y = %.2f\"%(s), \" cm\")"
   ]
  },
  {
   "cell_type": "markdown",
   "metadata": {},
   "source": [
    "$t=\\sqrt{\\frac{Mu}{\\phi FyY}}$"
   ]
  },
  {
   "cell_type": "code",
   "execution_count": 9,
   "metadata": {},
   "outputs": [
    {
     "name": "stdout",
     "output_type": "stream",
     "text": [
      "tmin = 1.63  cm\n",
      "tp = 2.00  cm\n",
      "rel = 0.81\n"
     ]
    }
   ],
   "source": [
    "t=math.sqrt(mu/(0.9*fy*Y))\n",
    "print(\"tmin = %.2f\"%(t), \" cm\")\n",
    "print(\"tp = %.2f\"%(tp), \" cm\")\n",
    "print(\"rel = %.2f\"%(t/tp))"
   ]
  },
  {
   "cell_type": "markdown",
   "metadata": {},
   "source": [
    "## Revisión por cortante\n",
    "### Fuerza en el patín de la viga\n",
    "\n",
    "$F_{fu}=\\frac{M_u}{db-tf}$"
   ]
  },
  {
   "cell_type": "code",
   "execution_count": 10,
   "metadata": {},
   "outputs": [
    {
     "name": "stdout",
     "output_type": "stream",
     "text": [
      "ffu = 48537.92  kg\n"
     ]
    }
   ],
   "source": [
    "Ffu=mu/(d-tf)\n",
    "print(\"ffu = %.2f\"%(Ffu), \" kg\")"
   ]
  },
  {
   "cell_type": "markdown",
   "metadata": {},
   "source": [
    "Revisión de cortante debido al momento\n",
    "\n",
    "$R_n=0.9(0.6F_y)b_pt_p$"
   ]
  },
  {
   "cell_type": "code",
   "execution_count": 11,
   "metadata": {},
   "outputs": [
    {
     "name": "stdout",
     "output_type": "stream",
     "text": [
      "Rn = 94267.80  kg\n",
      "rel = 0.51\n"
     ]
    }
   ],
   "source": [
    "Rn_flex=0.9*0.9*fy*bp*tp\n",
    "print(\"Rn = %.2f\"%(Rn_flex), \" kg\")\n",
    "print(\"rel = %.2f\"%(Ffu/Rn_flex))"
   ]
  },
  {
   "cell_type": "markdown",
   "metadata": {},
   "source": [
    "Revisión de cortante por ruptura\n",
    "\n",
    "$A_n=\\left[b_p-2(db+2.54(1/8))\\right]t_p$"
   ]
  },
  {
   "cell_type": "code",
   "execution_count": 12,
   "metadata": {},
   "outputs": [
    {
     "name": "stdout",
     "output_type": "stream",
     "text": [
      "An = 36.73 cm^2\n"
     ]
    }
   ],
   "source": [
    "An=(bp-2*(db+2.54/8))*tp\n",
    "print(\"An = %.2f cm^2\"%(An))"
   ]
  },
  {
   "cell_type": "markdown",
   "metadata": {},
   "source": [
    "Capacidad a cortante\n",
    "\n",
    "$R_n=0.75(0.6 F_u)A_n$"
   ]
  },
  {
   "cell_type": "code",
   "execution_count": 13,
   "metadata": {},
   "outputs": [
    {
     "name": "stdout",
     "output_type": "stream",
     "text": [
      "Rn = 67766.85 kg\n",
      "rel = 0.36\n"
     ]
    }
   ],
   "source": [
    "Rn_db=0.75*0.6*fu*An\n",
    "print(\"Rn = %.2f kg\"%(Rn_db))\n",
    "print(\"rel = %.2f\"%((Ffu/2)/Rn_db))"
   ]
  },
  {
   "cell_type": "markdown",
   "metadata": {},
   "source": [
    "### Revisión de fuerzas en tornillo\n",
    "\n",
    "REvisión de cortante\n",
    "\n",
    "$R_n=\\phi n_bF_v(A_b)$"
   ]
  },
  {
   "cell_type": "code",
   "execution_count": 14,
   "metadata": {},
   "outputs": [
    {
     "name": "stdout",
     "output_type": "stream",
     "text": [
      "Rn = 39584.07 kg\n",
      "Vu = 15000.00 kg\n",
      "rel = 0.38\n"
     ]
    }
   ],
   "source": [
    "Rn_bolt_shear=0.75*4*fv*(math.pi*db**2/4)\n",
    "print(\"Rn = %.2f kg\"%(Rn_bolt_shear))\n",
    "print(\"Vu = %.2f kg\"%(vu))\n",
    "print(\"rel = %.2f\"%(vu/Rn_bolt_shear))"
   ]
  },
  {
   "cell_type": "markdown",
   "metadata": {},
   "source": [
    "### Revisión de tensión y compresión del tornillo\n",
    "\n",
    "Tornillos a compresión\n",
    "\n",
    "$f_{bearing}=1088.62d_bt_pF_u$"
   ]
  },
  {
   "cell_type": "code",
   "execution_count": 15,
   "metadata": {},
   "outputs": [
    {
     "name": "stdout",
     "output_type": "stream",
     "text": [
      "Rn = 17853368.00 kg/tornillo\n"
     ]
    }
   ],
   "source": [
    "Rn_bearing=1088.62*db*tp*fu\n",
    "print(\"Rn = %.2f kg/tornillo\"%(Rn_bearing))"
   ]
  },
  {
   "cell_type": "markdown",
   "metadata": {},
   "source": [
    "Tornillos a tensión\n",
    "\n",
    "$L_c=(pfi+tf+pfo)-(db+2.54(1/16))$"
   ]
  },
  {
   "cell_type": "code",
   "execution_count": 16,
   "metadata": {},
   "outputs": [
    {
     "name": "stdout",
     "output_type": "stream",
     "text": [
      "Lc = 8.17 cm\n"
     ]
    }
   ],
   "source": [
    "Lc=(pfi+tf+pfo)-(db+2.54/16)\n",
    "print(\"Lc = %.2f cm\"%(Lc))"
   ]
  },
  {
   "cell_type": "markdown",
   "metadata": {},
   "source": [
    "$R_n=544.31L_ct_pF_u$"
   ]
  },
  {
   "cell_type": "code",
   "execution_count": 17,
   "metadata": {},
   "outputs": [
    {
     "name": "stdout",
     "output_type": "stream",
     "text": [
      "Rn = 72411.78 kg/tornillo\n"
     ]
    }
   ],
   "source": [
    "Rn_tearing=5441.31+Lc*tp*fu\n",
    "print(\"Rn = %.2f kg/tornillo\"%(Rn_tearing))"
   ]
  },
  {
   "cell_type": "code",
   "execution_count": 18,
   "metadata": {},
   "outputs": [
    {
     "name": "stdout",
     "output_type": "stream",
     "text": [
      "Rn = 217235.33 kg\n",
      "Vu = 15000.00 kg\n",
      "rel = 0.07\n"
     ]
    }
   ],
   "source": [
    "Rn_bolt=min(Rn_bearing,Rn_tearing)*4*0.75\n",
    "print(\"Rn = %.2f kg\"%(Rn_bolt))\n",
    "print(\"Vu = %.2f kg\"%(vu))\n",
    "print(\"rel = %.2f\"%(vu/Rn_bolt))"
   ]
  },
  {
   "cell_type": "markdown",
   "metadata": {},
   "source": [
    "## Diseño de atiesdaores\n",
    "\n",
    "### Revisión de atiesdaor por flexión en la columna\n",
    "\n",
    "$s=\\frac{1}{2}\\sqrt{b_{fc}g}$"
   ]
  },
  {
   "cell_type": "code",
   "execution_count": 19,
   "metadata": {},
   "outputs": [
    {
     "name": "stdout",
     "output_type": "stream",
     "text": [
      "s = 11.38 cm\n"
     ]
    }
   ],
   "source": [
    "s=0.5*math.sqrt(bfc*g)\n",
    "print(\"s = %.2f cm\"%(s))"
   ]
  },
  {
   "cell_type": "markdown",
   "metadata": {},
   "source": [
    "$c=pfo+tfb+pfi$"
   ]
  },
  {
   "cell_type": "code",
   "execution_count": 20,
   "metadata": {},
   "outputs": [
    {
     "name": "stdout",
     "output_type": "stream",
     "text": [
      "c = 10.63 cm\n"
     ]
    }
   ],
   "source": [
    "c=pfo+t+pfi\n",
    "print(\"c = %.2f cm\"%(c))"
   ]
  },
  {
   "cell_type": "markdown",
   "metadata": {},
   "source": [
    "\n",
    "${Y_c} = \\frac{{{b_{fc}}}}{2}\\left[ {h1\\left( {\\frac{1}{s}} \\right) + h0\\left( {\\frac{1}{s}} \\right)} \\right] + \\frac{2}{g}\\left[ {h1\\left( {s + \\frac{{3c}}{4}} \\right) + h0\\left( {s + \\frac{c}{4}} \\right) + \\frac{{{c^2}}}{2}} \\right] + \\frac{g}{2}$"
   ]
  },
  {
   "cell_type": "code",
   "execution_count": 21,
   "metadata": {},
   "outputs": [
    {
     "name": "stdout",
     "output_type": "stream",
     "text": [
      "Yc = 5009.89  cm\n"
     ]
    }
   ],
   "source": [
    "Yc=bfc/2*(h1*(1/s)+h0*(1/s)+2/g*(h1*(s+3*c/4)+h0*(s+c/4)+c**2/2)+g/2)\n",
    "print(\"Yc = %.2f\"%(Yc), \" cm\")"
   ]
  },
  {
   "cell_type": "markdown",
   "metadata": {},
   "source": [
    "${t_{fc}} = \\sqrt {\\frac{{{M_{u}}}}{{\\phi {F_y}{Y_c}}}} $"
   ]
  },
  {
   "cell_type": "code",
   "execution_count": 36,
   "metadata": {},
   "outputs": [
    {
     "name": "stdout",
     "output_type": "stream",
     "text": [
      "tfc_min = 0.40  cm\n",
      "tfc = 2.18  cm\n",
      "No requiere atiesadores\n"
     ]
    }
   ],
   "source": [
    "tfc_min=math.sqrt(mu/(0.9*fyc*Yc))\n",
    "print(\"tfc_min = %.2f\"%(tfc_min), \" cm\")\n",
    "print(\"tfc = %.2f\"%(tfc), \" cm\")\n",
    "req_stiffner=True if tfc_min>tfc else False\n",
    "if req_stiffner:\n",
    "    print(\"Requiere atiesdaores\")\n",
    "else:\n",
    "    print(\"No requiere atiesadores\")"
   ]
  },
  {
   "cell_type": "markdown",
   "metadata": {},
   "source": [
    "$pso=psi=\\frac{c-ts}{2}$\n",
    "\n",
    "${Y_{cs}} = \\frac{{{b_f}}}{2}\\left[ {h1\\left( {\\frac{1}{s} + \\frac{1}{{psi}}} \\right) + h0\\left( {\\frac{1}{s} + \\frac{1}{{pso}}} \\right)} \\right] + \\frac{2}{g}\\left[ {h1\\left( {s + psi} \\right) + h0\\left( {s + pso} \\right)} \\right]$"
   ]
  },
  {
   "cell_type": "code",
   "execution_count": 38,
   "metadata": {},
   "outputs": [
    {
     "name": "stdout",
     "output_type": "stream",
     "text": [
      "pso = 4.56  cm\n",
      "Ycs = 572.53  cm\n",
      "tfc_min = 1.17  cm\n",
      "Espesor adecuado\n"
     ]
    }
   ],
   "source": [
    "pso=(c-ts)/2\n",
    "psi=pso\n",
    "Ycs=bf/2*(h1*(1/s+1/psi)+h0*(1/s+1/pso))+2/g*(h1*(s+psi)+h0*(s+pso))\n",
    "tfcs_min=math.sqrt(mu/(0.9*fyc*Ycs))\n",
    "print(\"pso = %.2f\"%(pso), \" cm\")\n",
    "print(\"Ycs = %.2f\"%(Ycs), \" cm\")\n",
    "print(\"tfc_min = %.2f\"%(tfcs_min), \" cm\")\n",
    "req_stiffner_dim=True if tfcs_min>tfc else False\n",
    "if req_stiffner:\n",
    "    print(\"Aumentar espesor de atiesador\")\n",
    "else:\n",
    "    print(\"Espesor adecuado\")"
   ]
  },
  {
   "cell_type": "code",
   "execution_count": null,
   "metadata": {},
   "outputs": [],
   "source": []
  }
 ],
 "metadata": {
  "kernelspec": {
   "display_name": "Python 3",
   "language": "python",
   "name": "python3"
  },
  "language_info": {
   "codemirror_mode": {
    "name": "ipython",
    "version": 3
   },
   "file_extension": ".py",
   "mimetype": "text/x-python",
   "name": "python",
   "nbconvert_exporter": "python",
   "pygments_lexer": "ipython3",
   "version": "3.8.6"
  }
 },
 "nbformat": 4,
 "nbformat_minor": 4
}
