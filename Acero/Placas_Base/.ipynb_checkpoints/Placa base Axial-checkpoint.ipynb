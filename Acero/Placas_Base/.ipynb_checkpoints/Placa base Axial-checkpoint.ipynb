{
 "cells": [
  {
   "cell_type": "markdown",
   "metadata": {},
   "source": [
    "# Revisión de placa base ante cargas axiales sin momento\n",
    "\n",
    "## Introducción\n",
    "\n",
    "A continuación se muestra el cálculo de placa base para cargas axiales con base a las ayudas de diseños del AISC\n",
    "\n",
    "Para comenzar se importa la biblioteca de math y csv para operaciones matemáticas y lectura de archivos csv respectivamente"
   ]
  },
  {
   "cell_type": "code",
   "execution_count": 35,
   "metadata": {},
   "outputs": [],
   "source": [
    "import math\n",
    "import csv"
   ]
  },
  {
   "cell_type": "markdown",
   "metadata": {},
   "source": [
    "## Datos\n",
    "A continuación se define una función para la importación de datos de la base de datos"
   ]
  },
  {
   "cell_type": "code",
   "execution_count": 36,
   "metadata": {},
   "outputs": [],
   "source": [
    "def importarPerfil(perfil):\n",
    "    perfil = perfil.upper()\n",
    "    csv_path = \"../aisc_database.csv\"\n",
    "    with open(csv_path, \"r\") as f_obj:\n",
    "        reader = csv.reader(f_obj)\n",
    "        for row in reader:\n",
    "            if row[3] == perfil:\n",
    "                section = dict()\n",
    "                section[\"type\"] = row[2]\n",
    "                section[\"area\"] = float(row[10]) * 2.54 ** 2\n",
    "                section[\"rx\"] = float(row[28]) * 2.54\n",
    "                section[\"ry\"] = float(row[34]) * 2.54\n",
    "                section[\"zx\"] = float(row[26]) * 2.54 ** 3\n",
    "                section[\"zy\"] = float(row[32]) * 2.54 ** 3\n",
    "                section[\"sx\"] = float(row[27]) * 2.54 ** 3\n",
    "                section[\"sy\"] = float(row[33]) * 2.54 ** 3\n",
    "                section[\"ix\"] = float(row[25]) * 2.54 ** 4\n",
    "                section[\"iy\"] = float(row[31]) * 2.54 ** 4\n",
    "                section[\"cw\"] = float(row[84]) * 2.54 ** 6\n",
    "                section[\"j\"] = float(row[54]) * 2.54 ** 4\n",
    "                section[\"h0\"] = float(row[135]) * 2.54 ** 4\n",
    "                section[\"rts\"] = float(row[134]) * 2.54\n",
    "                section[\"d\"] = float(row[11]) * 2.54\n",
    "                section[\"bf\"] = float(row[14]) * 2.54\n",
    "                section[\"tw\"] = float(row[12]) * 2.54\n",
    "                section[\"tf\"] = float(row[15]) * 2.54\n",
    "\n",
    "                return section"
   ]
  },
  {
   "cell_type": "markdown",
   "metadata": {},
   "source": [
    "### Carga actuante"
   ]
  },
  {
   "cell_type": "code",
   "execution_count": 37,
   "metadata": {},
   "outputs": [],
   "source": [
    "pu=30000"
   ]
  },
  {
   "cell_type": "markdown",
   "metadata": {},
   "source": [
    "### Sección"
   ]
  },
  {
   "cell_type": "code",
   "execution_count": 38,
   "metadata": {},
   "outputs": [],
   "source": [
    "sectionName=\"W14X30\""
   ]
  },
  {
   "cell_type": "code",
   "execution_count": 39,
   "metadata": {},
   "outputs": [],
   "source": [
    "section=importarPerfil(sectionName)"
   ]
  },
  {
   "cell_type": "code",
   "execution_count": 40,
   "metadata": {},
   "outputs": [
    {
     "data": {
      "text/plain": [
       "{'type': 'W',\n",
       " 'area': 57.09666,\n",
       " 'rx': 14.554200000000002,\n",
       " 'ry': 3.7846,\n",
       " 'zx': 775.1081272,\n",
       " 'zy': 147.31970536000003,\n",
       " 'sx': 688.256688,\n",
       " 'sy': 95.37271248000002,\n",
       " 'ix': 12112.334484960002,\n",
       " 'iy': 815.8135941760002,\n",
       " 'cw': 238191.31362106517,\n",
       " 'j': 15.816794172800002,\n",
       " 'h0': 557.750110304,\n",
       " 'rts': 4.4958,\n",
       " 'd': 35.052,\n",
       " 'bf': 17.0942,\n",
       " 'tw': 0.6858000000000001,\n",
       " 'tf': 0.9779}"
      ]
     },
     "execution_count": 40,
     "metadata": {},
     "output_type": "execute_result"
    }
   ],
   "source": [
    "section"
   ]
  },
  {
   "cell_type": "markdown",
   "metadata": {},
   "source": [
    "### Placa base y concreto\n",
    "Se consideran las siguiente propiedades de la placa y dado en kg y cm"
   ]
  },
  {
   "cell_type": "code",
   "execution_count": 41,
   "metadata": {},
   "outputs": [],
   "source": [
    "pb = dict()\n",
    "pb[\"Base\"] = 45\n",
    "pb[\"Altura\"] = 45\n",
    "pb[\"BaseDado\"] = 55\n",
    "pb[\"AlturaDado\"] = 5\n",
    "pb[\"fy\"] = 2530\n",
    "pb[\"fc\"] = 250"
   ]
  },
  {
   "cell_type": "markdown",
   "metadata": {},
   "source": [
    "## Revisión de concreto\n",
    "Primero se debe obenter la capacidad del concreto mediante la siguiente ecuación:\n",
    "\n",
    "$P_r=\\phi0.85f'_c A_1\\sqrt{\\frac{A_2}{A_1}}$\n",
    "\n",
    "donde $A_1$ es el área de la placa base y $A_2$ es el área de la dado"
   ]
  },
  {
   "cell_type": "code",
   "execution_count": 42,
   "metadata": {},
   "outputs": [],
   "source": [
    "A1=pb[\"Base\"]*pb[\"Altura\"]\n",
    "A2=pb[\"BaseDado\"]*pb[\"AlturaDado\"]"
   ]
  },
  {
   "cell_type": "code",
   "execution_count": 43,
   "metadata": {},
   "outputs": [
    {
     "name": "stdout",
     "output_type": "stream",
     "text": [
      "A1 =  2025\n",
      "A2 =  275\n"
     ]
    }
   ],
   "source": [
    "print(\"A1 = \",A1)\n",
    "print(\"A2 = \",A2)"
   ]
  },
  {
   "cell_type": "code",
   "execution_count": 44,
   "metadata": {},
   "outputs": [],
   "source": [
    "pr=0.65*0.85*pb[\"fc\"]*A1*math.sqrt(A2/A1)"
   ]
  },
  {
   "cell_type": "code",
   "execution_count": 45,
   "metadata": {},
   "outputs": [
    {
     "name": "stdout",
     "output_type": "stream",
     "text": [
      "Pr = 103.07  ton\n"
     ]
    }
   ],
   "source": [
    "print(\"Pr = %.2f\"%(pr/1000), \" ton\")"
   ]
  },
  {
   "cell_type": "code",
   "execution_count": 46,
   "metadata": {},
   "outputs": [
    {
     "name": "stdout",
     "output_type": "stream",
     "text": [
      "pu/pr = 0.29\n"
     ]
    }
   ],
   "source": [
    "print(\"pu/pr = %.2f\"%(pu/pr))"
   ]
  },
  {
   "cell_type": "markdown",
   "metadata": {},
   "source": [
    "## Espesor de placa base\n",
    "\n",
    "    Las lineas de flexión que se generan en una placa base se muestran en la siguiente figura \n",
    "    "
   ]
  },
  {
   "cell_type": "markdown",
   "metadata": {},
   "source": [
    "<img src=\"bendingLines.PNG\" alt=\"Drawing\" style=\"width: 300px;\"/>"
   ]
  },
  {
   "cell_type": "markdown",
   "metadata": {},
   "source": [
    "Por lo que los valores de $m$ y $n$ son:\n",
    "\n",
    "$m=\\frac{N-0.95d}{2}\\\\$\n",
    "$n=\\frac{N-0.85bf}{2}$\n",
    "\n",
    "si el perfil es una sección rectangular entonces \n",
    "\n",
    "$n=\\frac{N-0.95bf}{2}$\n"
   ]
  },
  {
   "cell_type": "code",
   "execution_count": 47,
   "metadata": {},
   "outputs": [],
   "source": [
    "#Datos de la placa base\n",
    "B = pb[\"Base\"]\n",
    "N = pb[\"Altura\"]\n",
    "fy = pb[\"fy\"]\n",
    "fc = pb[\"fc\"]\n",
    "#Datos del perfil\n",
    "d = section[\"d\"]\n",
    "bf = section[\"bf\"]"
   ]
  },
  {
   "cell_type": "code",
   "execution_count": 48,
   "metadata": {},
   "outputs": [
    {
     "name": "stdout",
     "output_type": "stream",
     "text": [
      "m = 5.85  cm\n",
      "n = 15.66  cm\n"
     ]
    }
   ],
   "source": [
    "m = (N - 0.95 * d) / 2\n",
    "n = (B - 0.80 * bf) / 2\n",
    "print(\"m = %.2f\"%(m), \" cm\")\n",
    "print(\"n = %.2f\"%(n), \" cm\")"
   ]
  },
  {
   "cell_type": "markdown",
   "metadata": {},
   "source": [
    "Se obtine $X$, $\\lambda$ y $\\lambda n'$\n",
    "\n",
    "$X=\\left[\\frac{4db_f}{(d+b_f)^2}\\right]\\frac{Pu}{Pr}$\n",
    "\n",
    "$\\lambda=\\frac{2\\sqrt{X}}{1+\\sqrt{1-x}}\\le 1.0$\n",
    "\n",
    "$\\lambda n'=\\lambda\\frac{\\sqrt{db_f}}{4}\\\\ $"
   ]
  },
  {
   "cell_type": "code",
   "execution_count": 49,
   "metadata": {},
   "outputs": [
    {
     "name": "stdout",
     "output_type": "stream",
     "text": [
      "x = 0.26  cm\n",
      "L = 0.67  cm\n",
      "ln = 4.11  cm\n"
     ]
    }
   ],
   "source": [
    "x = (4 * d * bf / (d + bf) ** 2) * pu / pr\n",
    "L = min(1, 2 * math.sqrt(x) / (1 + math.sqrt(x)))\n",
    "ln = L * math.sqrt(d * bf) / 4\n",
    "print(\"x = %.2f\"%(x), \" cm\")\n",
    "print(\"L = %.2f\"%(L), \" cm\")\n",
    "print(\"ln = %.2f\"%(ln), \" cm\")"
   ]
  },
  {
   "cell_type": "markdown",
   "metadata": {},
   "source": [
    "Se toma el máximo entre $m$, $n$ y $\\lambda n'$"
   ]
  },
  {
   "cell_type": "code",
   "execution_count": 50,
   "metadata": {},
   "outputs": [
    {
     "name": "stdout",
     "output_type": "stream",
     "text": [
      "l = 15.66  cm\n"
     ]
    }
   ],
   "source": [
    "l = max(m, n, ln)\n",
    "print(\"l = %.2f\"%(l), \" cm\")"
   ]
  },
  {
   "cell_type": "markdown",
   "metadata": {},
   "source": [
    "El espesor mínimo de la placa se:\n",
    "\n",
    "$t_{\\min}=l\\sqrt{\\frac{2Pu}{\\phi F_yBN}}$"
   ]
  },
  {
   "cell_type": "code",
   "execution_count": 51,
   "metadata": {},
   "outputs": [
    {
     "name": "stdout",
     "output_type": "stream",
     "text": [
      "t = 1.79  cm\n"
     ]
    }
   ],
   "source": [
    "t = l * math.sqrt(2 * pu / (0.9 * fy * B * N))\n",
    "print(\"t = %.2f\"%(t), \" cm\")"
   ]
  }
 ],
 "metadata": {
  "kernelspec": {
   "display_name": "Python 3",
   "language": "python",
   "name": "python3"
  },
  "language_info": {
   "codemirror_mode": {
    "name": "ipython",
    "version": 3
   },
   "file_extension": ".py",
   "mimetype": "text/x-python",
   "name": "python",
   "nbconvert_exporter": "python",
   "pygments_lexer": "ipython3",
   "version": "3.8.5"
  }
 },
 "nbformat": 4,
 "nbformat_minor": 4
}
